{
 "cells": [
  {
   "cell_type": "markdown",
   "metadata": {},
   "source": [
    "## Homework 1 - Python Practice (Data Structures, Spring 2021)\r\n",
    "\r\n",
    "### Name:蔡翔宇\r\n",
    "### Student ID Number:108820018\r\n",
    "\r\n",
    "### Problem 1\r\n",
    "Write a short Python function `sumevensquares()` that takes a positive integer $n$ and returns the sum of the squares of all the even positive integers smaller than $n$. Furthermore, please give a single command that computes the same sum in another Python function `sumevensquares_simple()`, relying on Python's comprehension syntax and the built-in sum function."
   ]
  },
  {
   "cell_type": "code",
   "execution_count": 37,
   "metadata": {},
   "outputs": [
    {
     "name": "stdout",
     "output_type": "stream",
     "text": [
      "4\n",
      "220\n",
      "0\n",
      "56\n",
      "0\n",
      "0: 0\n",
      "1: 0\n",
      "2: 0\n",
      "3: 4\n",
      "4: 4\n",
      "5: 20\n",
      "6: 20\n",
      "7: 56\n",
      "8: 56\n",
      "9: 120\n",
      "\n",
      "4\n",
      "220\n",
      "0\n",
      "56\n",
      "0\n",
      "0: 0\n",
      "1: 0\n",
      "2: 0\n",
      "3: 4\n",
      "4: 4\n",
      "5: 20\n",
      "6: 20\n",
      "7: 56\n",
      "8: 56\n",
      "9: 120\n"
     ]
    }
   ],
   "source": [
    "def sumevensquares(n):\r\n",
    "    sum = 0\r\n",
    "    for i in range(n):\r\n",
    "        if i % 2 ==0:\r\n",
    "            sum += i*i\r\n",
    "    return sum\r\n",
    "\r\n",
    "def sumevensquares_simple(n):\r\n",
    "    even_square = [x*x for x in range(n) if x % 2 == 0]\r\n",
    "    return sum(even_square)\r\n",
    "\r\n",
    "print (sumevensquares(3))  #want to add up 2*2\r\n",
    "print (sumevensquares(11)) # want to add up 2*2, 4*4, etc.\r\n",
    "print (sumevensquares(0))\r\n",
    "print (sumevensquares(7))\r\n",
    "print (sumevensquares(-5))\r\n",
    "for x in range (10):\r\n",
    "    print (f'{x}: {sumevensquares(x)}')\r\n",
    "\r\n",
    "print()\r\n",
    "\r\n",
    "print (sumevensquares(3))  #want to add up 2*2\r\n",
    "print (sumevensquares(11)) # want to add up 2*2, 4*4, etc.\r\n",
    "print (sumevensquares(0))\r\n",
    "print (sumevensquares(7))\r\n",
    "print (sumevensquares(-5))\r\n",
    "for x in range (10):\r\n",
    "    print (f'{x}: {sumevensquares_simple(x)}')"
   ]
  },
  {
   "cell_type": "markdown",
   "metadata": {},
   "source": [
    "### Problem 2\n",
    "Given a sequence of integer values, determines if there is a distinct pair of numbers in the sequence whose product is odd.\n",
    "Please provide two Python functions, `oddpair_bf()` and `oddpair_linear()` for this problem. The function will take the given sequence of integers as a list. The `oddpair_bf()` function uses a Brute-force approach and check the possible pairs sequestially. When there is pair whose product is odd, it returns `True`; otherwise, it reports `False`. The second one, `oddpair_linear()`, uses a linear-scan approach and will visit each element once. Pleace have a way to determine this with a linear-scan. "
   ]
  },
  {
   "cell_type": "code",
   "execution_count": 38,
   "metadata": {},
   "outputs": [
    {
     "name": "stdout",
     "output_type": "stream",
     "text": [
      "Integer sequence [1, 2, 3, 4, 5, 6, 7, 8, 9, 10]\n",
      "Brute-force:  True\n",
      "Linear Scan:  True\n",
      "Integer sequence [2, 4, 6, 8]\n",
      "Brute-force:  False\n",
      "Linear Scan:  False\n",
      "Integer sequence [2, 3, 4, 6, 8, 10]\n",
      "Brute-force:  False\n",
      "Linear Scan:  False\n"
     ]
    }
   ],
   "source": [
    "# Brute-force approach - traditional way\r\n",
    "def oddpair_bf(data):\r\n",
    "    for i in range(len(data)):\r\n",
    "        for k in range(i+1, len(data)):\r\n",
    "            if data[i]*data[k] % 2 == 1:\r\n",
    "                return True\r\n",
    "    return False\r\n",
    "\r\n",
    "# Linear scan - Any two odd numbers will produce an odd product.  O(n)\r\n",
    "def oddpair_linear(data):\r\n",
    "    odd_count = 0\r\n",
    "    for x in data:\r\n",
    "        if x%2 == 1:\r\n",
    "            odd_count += 1\r\n",
    "    if odd_count >= 2:\r\n",
    "        return True\r\n",
    "    else:\r\n",
    "        return False\r\n",
    "\r\n",
    "\r\n",
    "data0 = [1,2,3,4,5,6,7,8,9,10]\r\n",
    "data1 = [2,4,6,8]\r\n",
    "data2 = [2,3,4,6,8,10]\r\n",
    "    \r\n",
    "print('Integer sequence', data0)\r\n",
    "print('Brute-force: ', oddpair_bf(data0))\r\n",
    "print('Linear Scan: ', oddpair_linear(data0))\r\n",
    "print('Integer sequence', data1)\r\n",
    "print('Brute-force: ', oddpair_bf(data1))\r\n",
    "print('Linear Scan: ', oddpair_linear(data1))\r\n",
    "print('Integer sequence', data2)\r\n",
    "print('Brute-force: ', oddpair_bf(data2))\r\n",
    "print('Linear Scan: ', oddpair_linear(data2))"
   ]
  },
  {
   "cell_type": "markdown",
   "metadata": {},
   "source": [
    "### Problem 3\n",
    "Demonstrate how to use Python’s `list` comprehension syntax to produce the list \n",
    "`[0, 2, 6, 12, 20, 30, 42, 56, 72, 90]`. Please use a `generator` to create an iterator and then make the resulting list(an iterable)."
   ]
  },
  {
   "cell_type": "code",
   "execution_count": 39,
   "metadata": {},
   "outputs": [
    {
     "name": "stdout",
     "output_type": "stream",
     "text": [
      "[0, 2, 6, 12, 20, 30, 42, 56, 72, 90]\n"
     ]
    }
   ],
   "source": [
    "def list_increasing_by_two_folds(n):\r\n",
    "        ans = (n*(n+1) for n in range(10))\r\n",
    "        return ans\r\n",
    "        \r\n",
    "gen = list_increasing_by_two_folds(10)\r\n",
    "print([next(gen) for i in range(10)])\r\n"
   ]
  },
  {
   "cell_type": "markdown",
   "metadata": {},
   "source": [
    "### Problem 4\n",
    "Write a Python class named `Triangle` constructed by three sides $a$, $b$, $c$ with two methods: `area()` and `perimeter()`, which compute the area and perimeter respectively. For this problem, we simply use a list to store the three sides."
   ]
  },
  {
   "cell_type": "code",
   "execution_count": 40,
   "metadata": {},
   "outputs": [
    {
     "name": "stdout",
     "output_type": "stream",
     "text": [
      "Please give the sides of the triangle and separate them by spaces:\n",
      "The area and perimeter of the input triangle are 6.0 and 12\n"
     ]
    }
   ],
   "source": [
    "class Triangle():\r\n",
    "\r\n",
    "    #constructor\r\n",
    "    def __init__(self, sides):\r\n",
    "        self.side = [x for x in sides]\r\n",
    "        self.p = sum(self.side)         #set perimeter\r\n",
    "        self.s = self.p/2               #define s(半周長)\r\n",
    "\r\n",
    "    #method\r\n",
    "    def perimeter(self):\r\n",
    "        return self.p\r\n",
    "\r\n",
    "    def area(self):\r\n",
    "        return pow(self.s*(self.s-self.side[0])*(self.s-self.side[1])*(self.s-self.side[2]), 1/2)   #海龍公式\r\n",
    "\r\n",
    "\r\n",
    "\r\n",
    "print(\"Please give the sides of the triangle and separate them by spaces:\")\r\n",
    "sides = [int(x) for x in input().split()]\r\n",
    "Triangle = Triangle(sides)\r\n",
    "print('The area and perimeter of the input triangle are', Triangle.area(), 'and', Triangle.perimeter() )"
   ]
  },
  {
   "cell_type": "markdown",
   "metadata": {},
   "source": [
    "### Problem 5\n",
    "Write a short Python function, `remove_punctuation()` that takes a string $s$, representing a sentence,\n",
    "and returns a copy of the string with all punctuations removed. For example, if given the string `\"Let's try, Mike.\"`, this function would return `\"Lets try Mike\"`."
   ]
  },
  {
   "cell_type": "code",
   "execution_count": 13,
   "metadata": {},
   "outputs": [
    {
     "name": "stdout",
     "output_type": "stream",
     "text": [
      "Hello my name is Mike\n",
      "\n",
      "sdmfxcmvxcvmdsfmsdf\n"
     ]
    }
   ],
   "source": [
    "#--------C1-25-----------\r\n",
    "def remove_punctuation(sentence):\r\n",
    "    punctuation = '''!?.,'''\r\n",
    "    new_sentence = ''\r\n",
    "    for w in sentence:\r\n",
    "        if w not in punctuation:\r\n",
    "            new_sentence += w\r\n",
    "    return new_sentence\r\n",
    "\r\n",
    "print(remove_punctuation('Hello, my name is Mike!!'))\r\n",
    "print(remove_punctuation(''))\r\n",
    "print(remove_punctuation('.s,dmf.,xcmv.x,cvm.ds,fms.df'))\r\n"
   ]
  },
  {
   "cell_type": "code",
   "execution_count": null,
   "metadata": {},
   "outputs": [],
   "source": []
  }
 ],
 "metadata": {
  "kernelspec": {
   "display_name": "Python 3",
   "language": "python",
   "name": "python3"
  },
  "language_info": {
   "codemirror_mode": {
    "name": "ipython",
    "version": 3
   },
   "file_extension": ".py",
   "mimetype": "text/x-python",
   "name": "python",
   "nbconvert_exporter": "python",
   "pygments_lexer": "ipython3",
   "version": "3.7.4"
  }
 },
 "nbformat": 4,
 "nbformat_minor": 4
}