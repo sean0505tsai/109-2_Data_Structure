{
 "cells": [
  {
   "cell_type": "markdown",
   "metadata": {},
   "source": [
    "## Homework 1 - Python Practice (Data Structures, Spring 2021)\n",
    "\n",
    "### Name:\n",
    "### Student ID Number:\n",
    "\n",
    "### Problem 1\n",
    "Write a short Python function `sumevensquares()` that takes a positive integer $n$ and returns the sum of the squares of all the even positive integers smaller than $n$. Furthermore, please give a single command that computes the same sum in another Python function `sumevensquares_simple()`, relying on Python's comprehension syntax and the built-in sum function."
   ]
  },
  {
   "cell_type": "code",
   "execution_count": 1,
   "metadata": {},
   "outputs": [
    {
     "name": "stdout",
     "output_type": "stream",
     "text": [
      "4\n",
      "220\n",
      "0\n",
      "56\n",
      "0\n",
      "0: 0\n",
      "1: 0\n",
      "2: 0\n",
      "3: 4\n",
      "4: 4\n",
      "5: 20\n",
      "6: 20\n",
      "7: 56\n",
      "8: 56\n",
      "9: 120\n",
      "\n",
      "4\n",
      "220\n",
      "0\n",
      "56\n",
      "0\n",
      "0: 0\n",
      "1: 0\n",
      "2: 0\n",
      "3: 4\n",
      "4: 4\n",
      "5: 20\n",
      "6: 20\n",
      "7: 56\n",
      "8: 56\n",
      "9: 120\n"
     ]
    }
   ],
   "source": [
    "def sumevensquares():\n",
    "\n",
    "def sumevensquares_simple():\n",
    "\n",
    "print (sumevensquares(3))  #want to add up 2*2\n",
    "print (sumevensquares(11)) # want to add up 2*2, 4*4, etc.\n",
    "print (sumevensquares(0))\n",
    "print (sumevensquares(7))\n",
    "print (sumevensquares(-5))\n",
    "for x in range (10):\n",
    "    print (f'{x}: {sumevensquares(x)}')\n",
    "\n",
    "print()\n",
    "\n",
    "print (sumevensquares(3))  #want to add up 2*2\n",
    "print (sumevensquares(11)) # want to add up 2*2, 4*4, etc.\n",
    "print (sumevensquares(0))\n",
    "print (sumevensquares(7))\n",
    "print (sumevensquares(-5))\n",
    "for x in range (10):\n",
    "    print (f'{x}: {sumevensquares_simple(x)}')"
   ]
  },
  {
   "cell_type": "markdown",
   "metadata": {},
   "source": [
    "### Problem 2\n",
    "Given a sequence of integer values, determines if there is a distinct pair of numbers in the sequence whose product is odd.\n",
    "Please provide two Python functions, `oddpair_bf()` and `oddpair_linear()` for this problem. The function will take the given sequence of integers as a list. The `oddpair_bf()` function uses a Brute-force approach and check the possible pairs sequestially. When there is pair whose product is odd, it returns `True`; otherwise, it reports `False`. The second one, `oddpair_linear()`, uses a linear-scan approach and will visit each element once. Pleace have a way to determine this with a linear-scan. "
   ]
  },
  {
   "cell_type": "code",
   "execution_count": 2,
   "metadata": {},
   "outputs": [
    {
     "name": "stdout",
     "output_type": "stream",
     "text": [
      "Integer sequence [1, 2, 3, 4, 5, 6, 7, 8, 9, 10]\n",
      "Brute-force:  True\n",
      "Linear Scan:  True\n",
      "Integer sequence [2, 4, 6, 8]\n",
      "Brute-force:  False\n",
      "Linear Scan:  False\n",
      "Integer sequence [2, 3, 4, 6, 8, 10]\n",
      "Brute-force:  False\n",
      "Linear Scan:  False\n"
     ]
    }
   ],
   "source": [
    "# Brute-force approach - traditional way\n",
    "def oddpair_bf():\n",
    "\n",
    "# Linear scan - Any two odd numbers will produce an odd product.  O(n)\n",
    "def oddpair_linear():\n",
    "\n",
    "\n",
    "data0 = [1,2,3,4,5,6,7,8,9,10]\n",
    "data1 = [2,4,6,8]\n",
    "data2 = [2,3,4,6,8,10]\n",
    "    \n",
    "print('Integer sequence', data0)\n",
    "print('Brute-force: ', oddpair_bf(data0))\n",
    "print('Linear Scan: ', oddpair_linear(data0))\n",
    "print('Integer sequence', data1)\n",
    "print('Brute-force: ', oddpair_bf(data1))\n",
    "print('Linear Scan: ', oddpair_linear(data1))\n",
    "print('Integer sequence', data2)\n",
    "print('Brute-force: ', oddpair_bf(data2))\n",
    "print('Linear Scan: ', oddpair_linear(data2))"
   ]
  },
  {
   "cell_type": "markdown",
   "metadata": {},
   "source": [
    "### Problem 3\n",
    "Demonstrate how to use Python’s `list` comprehension syntax to produce the list \n",
    "`[0, 2, 6, 12, 20, 30, 42, 56, 72, 90]`. Please use a `generator` to create an iterator and then make the resulting list(an iterable)."
   ]
  },
  {
   "cell_type": "code",
   "execution_count": 3,
   "metadata": {},
   "outputs": [
    {
     "name": "stdout",
     "output_type": "stream",
     "text": [
      "[0, 2, 6, 12, 20, 30, 42, 56, 72, 90]\n"
     ]
    }
   ],
   "source": [
    "def list_increasing_by_two_folds():\n",
    "        \n",
    "gen = list_increasing_by_two_folds()\n",
    "print([next(gen) for _ in range(10)])\n"
   ]
  },
  {
   "cell_type": "markdown",
   "metadata": {},
   "source": [
    "### Problem 4\n",
    "Write a Python class named `Triangle` constructed by three sides $a$, $b$, $c$ with two methods: `area()` and `perimeter()`, which compute the area and perimeter respectively. For this problem, we simply use a list to store the three sides."
   ]
  },
  {
   "cell_type": "code",
   "execution_count": 4,
   "metadata": {},
   "outputs": [
    {
     "name": "stdout",
     "output_type": "stream",
     "text": [
      "Please give the sides of the triangle and separate them by spaces:\n",
      "3 4 5\n",
      "The area and perimeter of the input triangle are 6.0 and 12\n"
     ]
    }
   ],
   "source": [
    "class Triangle():\n",
    "\n",
    "\n",
    "print(\"Please give the sides of the triangle and separate them by spaces:\")\n",
    "sides = [int(x) for x in input().split()]\n",
    "Triangle = Triangle(sides)\n",
    "print('The area and perimeter of the input triangle are', Triangle.area(), 'and', Triangle.perimeter() )"
   ]
  },
  {
   "cell_type": "markdown",
   "metadata": {},
   "source": [
    "### Problem 5\n",
    "Write a short Python function, `remove_punctuation()` that takes a string $s$, representing a sentence,\n",
    "and returns a copy of the string with all punctuations removed. For example, if given the string `\"Let's try, Mike.\"`, this function would return `\"Lets try Mike\"`."
   ]
  },
  {
   "cell_type": "code",
   "execution_count": 5,
   "metadata": {},
   "outputs": [
    {
     "name": "stdout",
     "output_type": "stream",
     "text": [
      "Appending Solution\n",
      "Hello my name is Mike\n",
      "\n",
      "sdmfxcmvxcvmdsfmsdf\n"
     ]
    }
   ],
   "source": [
    "#--------C1-25-----------\n",
    "def remove_punctuation():\n",
    "\n",
    "\n",
    "print(remove_punctuation('Hello, my name is Mike!!'))\n",
    "print(remove_punctuation(''))\n",
    "print(remove_punctuation('.s,dmf.,xcmv.x,cvm.ds,fms.df'))\n"
   ]
  },
  {
   "cell_type": "code",
   "execution_count": null,
   "metadata": {},
   "outputs": [],
   "source": []
  }
 ],
 "metadata": {
  "kernelspec": {
   "display_name": "Python 3",
   "language": "python",
   "name": "python3"
  },
  "language_info": {
   "codemirror_mode": {
    "name": "ipython",
    "version": 3
   },
   "file_extension": ".py",
   "mimetype": "text/x-python",
   "name": "python",
   "nbconvert_exporter": "python",
   "pygments_lexer": "ipython3",
   "version": "3.7.4"
  }
 },
 "nbformat": 4,
 "nbformat_minor": 4
}
